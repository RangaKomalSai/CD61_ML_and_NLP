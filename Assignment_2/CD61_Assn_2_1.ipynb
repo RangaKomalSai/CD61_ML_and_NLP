{
  "nbformat": 4,
  "nbformat_minor": 0,
  "metadata": {
    "colab": {
      "provenance": []
    },
    "kernelspec": {
      "name": "python3",
      "display_name": "Python 3"
    },
    "language_info": {
      "name": "python"
    }
  },
  "cells": [
    {
      "cell_type": "code",
      "execution_count": 1,
      "metadata": {
        "id": "Mne_ZC-BJbEt"
      },
      "outputs": [],
      "source": [
        "corpus = [\n",
        "    'the sun is a star',\n",
        "    'the moon is a satellite',\n",
        "    'the sun and moon are celestial bodies'\n",
        "]"
      ]
    },
    {
      "cell_type": "code",
      "source": [
        "import math\n",
        "from collections import Counter\n",
        "\n",
        "tokenized_corpus = [doc.lower().split() for doc in corpus]\n",
        "\n",
        "vocab = sorted(set(word for doc in tokenized_corpus for word in doc))\n",
        "print(\"Vocabulary:\", vocab)\n",
        "\n",
        "df = {word: sum(1 for doc in tokenized_corpus if word in doc) for word in vocab}\n",
        "print(\"\\nDocument Frequencies:\", df)\n",
        "\n",
        "tfidf_manual = []\n",
        "\n",
        "for doc in tokenized_corpus:\n",
        "    word_count = Counter(doc)\n",
        "    doc_len = len(doc)\n",
        "    tfidf_vector = []\n",
        "\n",
        "    for word in vocab:\n",
        "        tf = word_count[word] / doc_len\n",
        "        idf = math.log(len(corpus) / (df[word]))\n",
        "        tfidf = tf * idf\n",
        "        tfidf_vector.append(round(tfidf, 4))\n",
        "\n",
        "    tfidf_manual.append(tfidf_vector)\n",
        "\n",
        "print(\"\\nManual TF-IDF Matrix:\")\n",
        "for row in tfidf_manual:\n",
        "    print(row)"
      ],
      "metadata": {
        "colab": {
          "base_uri": "https://localhost:8080/"
        },
        "id": "c-76VcekJhjo",
        "outputId": "24ac35db-8999-49f8-8b8e-0c0d3b0e80fd"
      },
      "execution_count": 2,
      "outputs": [
        {
          "output_type": "stream",
          "name": "stdout",
          "text": [
            "Vocabulary: ['a', 'and', 'are', 'bodies', 'celestial', 'is', 'moon', 'satellite', 'star', 'sun', 'the']\n",
            "\n",
            "Document Frequencies: {'a': 2, 'and': 1, 'are': 1, 'bodies': 1, 'celestial': 1, 'is': 2, 'moon': 2, 'satellite': 1, 'star': 1, 'sun': 2, 'the': 3}\n",
            "\n",
            "Manual TF-IDF Matrix:\n",
            "[0.0811, 0.0, 0.0, 0.0, 0.0, 0.0811, 0.0, 0.0, 0.2197, 0.0811, 0.0]\n",
            "[0.0811, 0.0, 0.0, 0.0, 0.0, 0.0811, 0.0811, 0.2197, 0.0, 0.0, 0.0]\n",
            "[0.0, 0.1569, 0.1569, 0.1569, 0.1569, 0.0, 0.0579, 0.0, 0.0, 0.0579, 0.0]\n"
          ]
        }
      ]
    },
    {
      "cell_type": "code",
      "source": [
        "from sklearn.feature_extraction.text import CountVectorizer, TfidfVectorizer\n",
        "\n",
        "count_vect = CountVectorizer()\n",
        "X_count = count_vect.fit_transform(corpus)\n",
        "print(\"Vocabulary:\", count_vect.get_feature_names_out())\n",
        "print(\"\\nCount Vectorizer Matrix:\\n\", X_count.toarray())\n",
        "\n",
        "tfidf_vect = TfidfVectorizer()\n",
        "X_tfidf = tfidf_vect.fit_transform(corpus)\n",
        "print(\"\\nTF-IDF Vectorizer Matrix:\\n\", X_tfidf.toarray())"
      ],
      "metadata": {
        "colab": {
          "base_uri": "https://localhost:8080/"
        },
        "id": "Q77aBbtUJjYZ",
        "outputId": "147d7089-adfc-4201-886c-f8adc7e9804b"
      },
      "execution_count": 3,
      "outputs": [
        {
          "output_type": "stream",
          "name": "stdout",
          "text": [
            "Vocabulary: ['and' 'are' 'bodies' 'celestial' 'is' 'moon' 'satellite' 'star' 'sun'\n",
            " 'the']\n",
            "\n",
            "Count Vectorizer Matrix:\n",
            " [[0 0 0 0 1 0 0 1 1 1]\n",
            " [0 0 0 0 1 1 1 0 0 1]\n",
            " [1 1 1 1 0 1 0 0 1 1]]\n",
            "\n",
            "TF-IDF Vectorizer Matrix:\n",
            " [[0.         0.         0.         0.         0.4804584  0.\n",
            "  0.         0.63174505 0.4804584  0.37311881]\n",
            " [0.         0.         0.         0.         0.4804584  0.4804584\n",
            "  0.63174505 0.         0.         0.37311881]\n",
            " [0.4261835  0.4261835  0.4261835  0.4261835  0.         0.32412354\n",
            "  0.         0.         0.32412354 0.25171084]]\n"
          ]
        }
      ]
    }
  ]
}